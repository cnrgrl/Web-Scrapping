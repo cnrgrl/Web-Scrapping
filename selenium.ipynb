{
 "cells": [
  {
   "cell_type": "code",
   "execution_count": 144,
   "metadata": {
    "tags": []
   },
   "outputs": [
    {
     "output_type": "stream",
     "name": "stdout",
     "text": [
      "4\n",
      "6\n",
      "6\n",
      "6\n",
      "6\n",
      "6\n",
      "6\n",
      "6\n",
      "6\n",
      "2\n",
      "4\n",
      "6\n",
      "4\n",
      "0\n",
      "6\n",
      "0\n",
      "0\n",
      "0\n",
      "0\n",
      "6\n",
      "6\n",
      "6\n",
      "4\n"
     ]
    }
   ],
   "source": [
    "from selenium import webdriver\n",
    "from selenium.webdriver.common.keys import Keys\n",
    "from selenium.webdriver.common.by import By\n",
    "import time\n",
    "\n",
    "\n",
    "path=\"/Users/gerd/Downloads/chromedriver\"\n",
    "driver=webdriver.Chrome(path)\n",
    "\n",
    "driver.get(\"https://www.klinikbewertungen.de\")\n",
    "search=driver.find_element_by_id(\"fwas\")\n",
    "\n",
    "\n",
    "cookies=driver.find_element_by_id(\"ez-accept-all\")\n",
    "cookies.click()\n",
    "\n",
    "search.send_keys(\"Augenklinik Dr.Hoffmann\")\n",
    "search.send_keys(Keys.RETURN)\n",
    "\n",
    "\n",
    "\n",
    "driver.execute_script(\"window.scrollTo(0, 500);\")\n",
    "time.sleep(3)\n",
    "liste=driver.find_element_by_link_text(\"Augenklinik - Dr. Hoffmann\")\n",
    "liste.click()\n",
    "\n",
    "#Klinik Name\n",
    "klinik_name=driver.find_element_by_xpath('//*[@id=\"content\"]/header/h1').text \n",
    "#Fach Bereich\n",
    "fach_bereich=driver.find_element_by_css_selector(\"#bewertung-363694 > span > a\").text\n",
    "#Titel\n",
    "titels=driver.find_element_by_class_name(\"ratinglist\").find_elements_by_tag_name(\"h2\")\n",
    "\n",
    "#Datum \n",
    "datum_bewertung=driver.find_element_by_class_name(\"ratinglist\").find_elements_by_tag_name(\"time\")\n",
    "#Gesamte sterne text alle \n",
    "gesamte_sterne_txt=driver.find_elements_by_css_selector(\".rating dl dd:nth-child(2)\")\n",
    "#Gesamte sterne 1--6 alle\n",
    "gesamte_sterne=driver.find_elements_by_css_selector(\".rating > dl > dd:nth-child(2) > img\")\n",
    "\n",
    "for i in gesamte_sterne:\n",
    "    print((i.get_attribute(\"class\")).strip(\"star- \"))\n",
    "\n",
    "\n",
    "\n",
    "##Qualität sterne nur erste\n",
    "qualitat_sterne=driver.find_element_by_css_selector(\"#bewertung-363694 > section.rating > dl > dd:nth-child(4) > img\").get_attribute(\"alt\")\n",
    "##Qualität sterne nur erste\n",
    "behandlung_sterne=driver.find_element_by_css_selector(\"#bewertung-363694 > section.rating > dl > dd:nth-child(6) > img\").get_attribute(\"alt\")\n",
    "##Verwaltung sterne nur erste\n",
    "verwaltung_sterne=driver.find_element_by_css_selector(\"#bewertung-363694 > section.rating > dl > dd:nth-child(8) > img\").get_attribute(\"alt\")\n",
    "##Gestaltung sterne nur erste\n",
    "gestaltung_sterne=driver.find_element_by_css_selector(\"#bewertung-363694 > section.rating > dl > dd:nth-child(10) > img\").get_attribute(\"alt\")\n",
    "\n",
    "\n",
    "\n",
    "#Erfahrungen alle\n",
    "erfahrungen=driver.find_element_by_class_name(\"ratinglist\").find_elements_by_tag_name(\"p\")\n",
    "\n",
    "#for i in erfahrungen:\n",
    "#   print(i.text)\n"
   ]
  },
  {
   "cell_type": "code",
   "execution_count": null,
   "metadata": {},
   "outputs": [],
   "source": []
  }
 ],
 "metadata": {
  "kernelspec": {
   "display_name": "Python 3",
   "language": "python",
   "name": "python3"
  },
  "language_info": {
   "codemirror_mode": {
    "name": "ipython",
    "version": 3
   },
   "file_extension": ".py",
   "mimetype": "text/x-python",
   "name": "python",
   "nbconvert_exporter": "python",
   "pygments_lexer": "ipython3",
   "version": "3.8.3-final"
  }
 },
 "nbformat": 4,
 "nbformat_minor": 4
}